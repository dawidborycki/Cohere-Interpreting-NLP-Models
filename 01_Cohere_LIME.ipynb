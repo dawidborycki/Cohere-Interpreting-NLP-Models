{
 "cells": [
  {
   "cell_type": "code",
   "execution_count": null,
   "id": "8044cdd3",
   "metadata": {},
   "outputs": [],
   "source": [
    "import cohere\n",
    "import numpy as np\n",
    "from cohere.classify import Example"
   ]
  },
  {
   "cell_type": "code",
   "execution_count": null,
   "id": "0737f746",
   "metadata": {},
   "outputs": [],
   "source": [
    "co = cohere.Client('<YOUR_API_KEY>')"
   ]
  },
  {
   "cell_type": "code",
   "execution_count": null,
   "id": "169d82d0",
   "metadata": {},
   "outputs": [],
   "source": [
    "examples = [Example(\"The order came 5 days early\", \"positive\"), \n",
    "    Example(\"The item exceeded my expectations\", \"positive\"), \n",
    "    Example(\"I ordered more for my friends\", \"positive\"), \n",
    "    Example(\"I would buy this again\", \"positive\"), \n",
    "    Example(\"I would recommend this to others\", \"positive\"), \n",
    "    Example(\"The package was damaged\", \"negative\"), \n",
    "    Example(\"The order is 5 days late\", \"negative\"), \n",
    "    Example(\"The order was incorrect\", \"negative\"), \n",
    "    Example(\"I want to return my item\", \"negative\"), \n",
    "    Example(\"The item\\'s material feels low quality\", \"negative\")]"
   ]
  },
  {
   "cell_type": "code",
   "execution_count": null,
   "id": "8336c351",
   "metadata": {},
   "outputs": [],
   "source": [
    "positive_test_input = \"This item was great\"\n",
    "negative_test_input = \"This item broke after 3 weeks\""
   ]
  },
  {
   "cell_type": "code",
   "execution_count": null,
   "id": "7d304e73",
   "metadata": {},
   "outputs": [],
   "source": [
    "response = co.classify(\n",
    "  model='small',\n",
    "  inputs=[positive_test_input, negative_test_input],\n",
    "  examples=examples)"
   ]
  },
  {
   "cell_type": "code",
   "execution_count": null,
   "id": "3c15cc53",
   "metadata": {},
   "outputs": [],
   "source": [
    "response"
   ]
  },
  {
   "cell_type": "code",
   "execution_count": null,
   "id": "a8b40745",
   "metadata": {},
   "outputs": [],
   "source": [
    "def cohere_model_wrapper_for_lime(inputs):\n",
    "  response = co.classify(\n",
    "    model='small',\n",
    "    inputs=inputs,\n",
    "    examples=examples)\n",
    "\n",
    "  confidences = np.zeros((len(inputs), 2))\n",
    "  \n",
    "  for i in range(len(inputs)):\n",
    "    c = response.classifications[i]\n",
    "    confidences[i][0] = c.labels['negative'].confidence;\n",
    "    confidences[i][1] = c.labels['positive'].confidence;\n",
    "\n",
    "  return confidences"
   ]
  },
  {
   "cell_type": "code",
   "execution_count": null,
   "id": "377fdb5a",
   "metadata": {},
   "outputs": [],
   "source": [
    "cohere_model_wrapper_for_lime([positive_test_input, negative_test_input])"
   ]
  },
  {
   "cell_type": "code",
   "execution_count": null,
   "id": "c1d600be",
   "metadata": {},
   "outputs": [],
   "source": [
    "import lime\n",
    "from lime.lime_text import LimeTextExplainer"
   ]
  },
  {
   "cell_type": "code",
   "execution_count": null,
   "id": "26485c2e",
   "metadata": {},
   "outputs": [],
   "source": [
    "limeTextExplainer = LimeTextExplainer()\n",
    "positive_explainer = limeTextExplainer.explain_instance(positive_test_input, cohere_model_wrapper_for_lime)"
   ]
  },
  {
   "cell_type": "code",
   "execution_count": null,
   "id": "7cd031fd",
   "metadata": {},
   "outputs": [],
   "source": [
    "positive_explainer.as_list()"
   ]
  },
  {
   "cell_type": "code",
   "execution_count": null,
   "id": "6b82c359",
   "metadata": {},
   "outputs": [],
   "source": [
    "positive_explainer.as_pyplot_figure()"
   ]
  },
  {
   "cell_type": "code",
   "execution_count": null,
   "id": "364888c2",
   "metadata": {},
   "outputs": [],
   "source": [
    "positive_explainer.show_in_notebook(text=True)"
   ]
  },
  {
   "cell_type": "code",
   "execution_count": null,
   "id": "362c0a3e",
   "metadata": {},
   "outputs": [],
   "source": [
    "negative_explainer = limeTextExplainer.explain_instance(negative_test_input, cohere_model_wrapper_for_lime)"
   ]
  },
  {
   "cell_type": "code",
   "execution_count": null,
   "id": "6f32d491",
   "metadata": {
    "scrolled": true
   },
   "outputs": [],
   "source": [
    "negative_explainer.show_in_notebook(text=True)"
   ]
  }
 ],
 "metadata": {
  "kernelspec": {
   "display_name": "Python 3 (ipykernel)",
   "language": "python",
   "name": "python3"
  },
  "language_info": {
   "codemirror_mode": {
    "name": "ipython",
    "version": 3
   },
   "file_extension": ".py",
   "mimetype": "text/x-python",
   "name": "python",
   "nbconvert_exporter": "python",
   "pygments_lexer": "ipython3",
   "version": "3.10.6"
  }
 },
 "nbformat": 4,
 "nbformat_minor": 5
}
