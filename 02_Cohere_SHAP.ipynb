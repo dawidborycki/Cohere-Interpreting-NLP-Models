{
 "cells": [
  {
   "cell_type": "code",
   "execution_count": null,
   "id": "be6dd579",
   "metadata": {},
   "outputs": [],
   "source": [
    "import cohere\n",
    "import numpy as np\n",
    "from cohere.classify import Example"
   ]
  },
  {
   "cell_type": "code",
   "execution_count": null,
   "id": "4ce9fef3",
   "metadata": {},
   "outputs": [],
   "source": [
    "co = cohere.Client('<YOUR_API_KEY>')"
   ]
  },
  {
   "cell_type": "code",
   "execution_count": null,
   "id": "7923cca4",
   "metadata": {},
   "outputs": [],
   "source": [
    "examples = [Example(\"The order came 5 days early\", \"positive\"), \n",
    "    Example(\"The item exceeded my expectations\", \"positive\"), \n",
    "    Example(\"I ordered more for my friends\", \"positive\"), \n",
    "    Example(\"I would buy this again\", \"positive\"), \n",
    "    Example(\"I would recommend this to others\", \"positive\"), \n",
    "    Example(\"The package was damaged\", \"negative\"), \n",
    "    Example(\"The order is 5 days late\", \"negative\"), \n",
    "    Example(\"The order was incorrect\", \"negative\"), \n",
    "    Example(\"I want to return my item\", \"negative\"), \n",
    "    Example(\"The item\\'s material feels low quality\", \"negative\")]"
   ]
  },
  {
   "cell_type": "code",
   "execution_count": null,
   "id": "a64755c9",
   "metadata": {},
   "outputs": [],
   "source": [
    "positive_test_input = \"This item was great\"\n",
    "negative_test_input = \"This item broke after 3 weeks\""
   ]
  },
  {
   "cell_type": "code",
   "execution_count": null,
   "id": "f8cee07f",
   "metadata": {},
   "outputs": [],
   "source": [
    "def cohere_model_wrapper_for_shap(inputs):\n",
    "  response = co.classify(\n",
    "    model='small',\n",
    "    inputs=inputs.tolist(),\n",
    "    examples=examples)\n",
    "\n",
    "  confidences = np.zeros((len(inputs), 2))\n",
    "  \n",
    "  for i in range(len(inputs)):    \n",
    "    c = response.classifications[i]\n",
    "    confidences[i][0] = c.labels['negative'].confidence;\n",
    "    confidences[i][1] = c.labels['positive'].confidence;  \n",
    "\n",
    "  return confidences"
   ]
  },
  {
   "cell_type": "code",
   "execution_count": null,
   "id": "83e07ffb",
   "metadata": {},
   "outputs": [],
   "source": [
    "import shap\n",
    "\n",
    "masker = shap.maskers.Text(r\"\\W\")\n",
    "shapExplainer = shap.Explainer(cohere_model_wrapper_for_shap, masker)"
   ]
  },
  {
   "cell_type": "code",
   "execution_count": null,
   "id": "c1096dae",
   "metadata": {},
   "outputs": [],
   "source": [
    "shap_values = shapExplainer([positive_test_input, negative_test_input])"
   ]
  },
  {
   "cell_type": "code",
   "execution_count": null,
   "id": "f614b072",
   "metadata": {},
   "outputs": [],
   "source": [
    "shap.plots.text(shap_values)"
   ]
  }
 ],
 "metadata": {
  "kernelspec": {
   "display_name": "Python 3 (ipykernel)",
   "language": "python",
   "name": "python3"
  },
  "language_info": {
   "codemirror_mode": {
    "name": "ipython",
    "version": 3
   },
   "file_extension": ".py",
   "mimetype": "text/x-python",
   "name": "python",
   "nbconvert_exporter": "python",
   "pygments_lexer": "ipython3",
   "version": "3.10.6"
  }
 },
 "nbformat": 4,
 "nbformat_minor": 5
}
